{
 "cells": [
  {
   "cell_type": "code",
   "execution_count": 1,
   "id": "d63fe215",
   "metadata": {},
   "outputs": [],
   "source": [
    "from selenium import webdriver\n",
    "from bs4 import BeautifulSoup\n",
    "import pandas as pd"
   ]
  },
  {
   "cell_type": "code",
   "execution_count": 2,
   "id": "9400e2fd",
   "metadata": {},
   "outputs": [],
   "source": [
    "driver = webdriver.Chrome(r\"C:\\ProgramData\\Anaconda3\\Scripts\\chromedriver.exe\")"
   ]
  },
  {
   "cell_type": "code",
   "execution_count": 3,
   "id": "ddbb0aa8",
   "metadata": {},
   "outputs": [],
   "source": [
    "url = \"https://www.premierleague.com/stats/top/players/goals?se=363\"\n",
    "driver.get(url)\n",
    "soup = BeautifulSoup(driver.page_source, \"lxml\")"
   ]
  },
  {
   "cell_type": "code",
   "execution_count": 4,
   "id": "b9d179d7",
   "metadata": {},
   "outputs": [],
   "source": [
    "# //*[@id=\"mainContent\"]/div[2]/div/div[2]/div[1]/div[2]/table/tbody/tr[1]/td[2]/a/strong\n",
    "#//*[@id=\"mainContent\"]/div[2]/div/div[2]/div[1]/div[2]/table/tbody/tr[2]/td[2]/a/strong"
   ]
  },
  {
   "cell_type": "code",
   "execution_count": 8,
   "id": "0ff64114",
   "metadata": {},
   "outputs": [
    {
     "data": {
      "text/plain": [
       "'Harry Kane'"
      ]
     },
     "execution_count": 8,
     "metadata": {},
     "output_type": "execute_result"
    }
   ],
   "source": [
    "a= v('//*[@id=\"mainContent\"]/div[2]/div/div[2]/div[1]/div[2]/table/tbody/tr[1]/td[2]/a/strong')\n",
    "a.text"
   ]
  },
  {
   "cell_type": "code",
   "execution_count": 26,
   "id": "3d03492e",
   "metadata": {},
   "outputs": [],
   "source": [
    "player_name = []\n",
    "for i in range(1,21):\n",
    "    b= driver.find_element_by_xpath('//*[@id=\"mainContent\"]/div[2]/div/div[2]/div[1]/div[2]/table/tbody/tr[{}]/td[2]/a/strong'.format(i)).text\n",
    "    player_name.append(b)"
   ]
  },
  {
   "cell_type": "code",
   "execution_count": 13,
   "id": "a43b7b90",
   "metadata": {},
   "outputs": [
    {
     "data": {
      "text/plain": [
       "['Harry Kane',\n",
       " 'Mohamed Salah',\n",
       " 'Bruno Fernandes',\n",
       " 'Patrick Bamford',\n",
       " 'Son Heung-Min',\n",
       " 'Dominic Calvert-Lewin',\n",
       " 'Jamie Vardy',\n",
       " 'Ollie Watkins',\n",
       " 'Ilkay Gündogan',\n",
       " 'Alexandre Lacazette',\n",
       " 'Kelechi Iheanacho',\n",
       " 'Danny Ings',\n",
       " 'Callum Wilson',\n",
       " 'Chris Wood',\n",
       " 'Gareth Bale',\n",
       " 'Matheus Pereira',\n",
       " 'Sadio Mané',\n",
       " 'Marcus Rashford',\n",
       " 'Wilfried Zaha']"
      ]
     },
     "execution_count": 13,
     "metadata": {},
     "output_type": "execute_result"
    }
   ],
   "source": [
    "player_name"
   ]
  },
  {
   "cell_type": "code",
   "execution_count": 14,
   "id": "b101d067",
   "metadata": {},
   "outputs": [],
   "source": [
    "#//*[@id=\"mainContent\"]/div[2]/div/div[2]/div[1]/div[2]/table/tbody/tr[1]/td[3]/a\n",
    "#//*[@id=\"mainContent\"]/div[2]/div/div[2]/div[1]/div[2]/table/tbody/tr[2]/td[3]/a"
   ]
  },
  {
   "cell_type": "code",
   "execution_count": 18,
   "id": "4b270cd1",
   "metadata": {},
   "outputs": [
    {
     "data": {
      "text/plain": [
       "'Tottenham Hotspur'"
      ]
     },
     "execution_count": 18,
     "metadata": {},
     "output_type": "execute_result"
    }
   ],
   "source": [
    "c = driver.find_element_by_xpath('//*[@id=\"mainContent\"]/div[2]/div/div[2]/div[1]/div[2]/table/tbody/tr[1]/td[3]/a')\n",
    "c.text"
   ]
  },
  {
   "cell_type": "code",
   "execution_count": 25,
   "id": "21e8c78a",
   "metadata": {},
   "outputs": [
    {
     "data": {
      "text/plain": [
       "['Tottenham Hotspur',\n",
       " 'Liverpool',\n",
       " 'Manchester United',\n",
       " 'Leeds United',\n",
       " 'Tottenham Hotspur',\n",
       " 'Everton',\n",
       " 'Leicester City',\n",
       " 'Aston Villa',\n",
       " 'Manchester City',\n",
       " 'Arsenal',\n",
       " 'Leicester City',\n",
       " 'Southampton',\n",
       " 'Newcastle United',\n",
       " 'Burnley',\n",
       " 'Tottenham Hotspur',\n",
       " 'West Bromwich Albion',\n",
       " 'Liverpool',\n",
       " 'Manchester United',\n",
       " 'Crystal Palace',\n",
       " 'West Ham United']"
      ]
     },
     "execution_count": 25,
     "metadata": {},
     "output_type": "execute_result"
    }
   ],
   "source": [
    "club = []\n",
    "for i in range(1, 21):\n",
    "    d = driver.find_element_by_xpath('//*[@id=\"mainContent\"]/div[2]/div/div[2]/div[1]/div[2]/table/tbody/tr[{}]/td[3]/a'.format(i)).text\n",
    "    club.append(d)\n",
    "    \n",
    "club"
   ]
  },
  {
   "cell_type": "code",
   "execution_count": 20,
   "id": "b6e9207b",
   "metadata": {},
   "outputs": [],
   "source": [
    "#//*[@id=\"mainContent\"]/div[2]/div/div[2]/div[1]/div[2]/table/tbody/tr[1]/td[4]/div/span[2]\n",
    "#//*[@id=\"mainContent\"]/div[2]/div/div[2]/div[1]/div[2]/table/tbody/tr[2]/td[4]/div/span[2]"
   ]
  },
  {
   "cell_type": "code",
   "execution_count": 21,
   "id": "674e1d21",
   "metadata": {},
   "outputs": [
    {
     "data": {
      "text/plain": [
       "'England'"
      ]
     },
     "execution_count": 21,
     "metadata": {},
     "output_type": "execute_result"
    }
   ],
   "source": [
    "e = driver.find_element_by_xpath('//*[@id=\"mainContent\"]/div[2]/div/div[2]/div[1]/div[2]/table/tbody/tr[1]/td[4]/div/span[2]')\n",
    "e.text"
   ]
  },
  {
   "cell_type": "code",
   "execution_count": 24,
   "id": "ab2035ca",
   "metadata": {},
   "outputs": [
    {
     "data": {
      "text/plain": [
       "['England',\n",
       " 'Egypt',\n",
       " 'Portugal',\n",
       " 'England',\n",
       " 'South Korea',\n",
       " 'England',\n",
       " 'England',\n",
       " 'England',\n",
       " 'Germany',\n",
       " 'France',\n",
       " 'Nigeria',\n",
       " 'England',\n",
       " 'England',\n",
       " 'New Zealand',\n",
       " 'Wales',\n",
       " 'Brazil',\n",
       " 'Senegal',\n",
       " 'England',\n",
       " '[object Object]',\n",
       " 'England']"
      ]
     },
     "execution_count": 24,
     "metadata": {},
     "output_type": "execute_result"
    }
   ],
   "source": [
    "country = []\n",
    "for i in range(1,21):\n",
    "    f = driver.find_element_by_xpath('//*[@id=\"mainContent\"]/div[2]/div/div[2]/div[1]/div[2]/table/tbody/tr[{}]/td[4]/div/span[2]'.format(i)).text\n",
    "    country.append(f)\n",
    "    \n",
    "country"
   ]
  },
  {
   "cell_type": "code",
   "execution_count": 27,
   "id": "e0ec2230",
   "metadata": {},
   "outputs": [],
   "source": [
    "# //*[@id=\"mainContent\"]/div[2]/div/div[2]/div[1]/div[2]/table/tbody/tr[1]/td[5]\n",
    "# //*[@id=\"mainContent\"]/div[2]/div/div[2]/div[1]/div[2]/table/tbody/tr[2]/td[5]"
   ]
  },
  {
   "cell_type": "code",
   "execution_count": 31,
   "id": "478bedad",
   "metadata": {},
   "outputs": [
    {
     "data": {
      "text/plain": [
       "''"
      ]
     },
     "execution_count": 31,
     "metadata": {},
     "output_type": "execute_result"
    }
   ],
   "source": [
    "g = driver.find_element_by_xpath('//*[@id=\"mainContent\"]/div[2]/div/div[2]/div[1]/div[2]/table/tbody/tr[1]/td[5]')\n",
    "g.text"
   ]
  },
  {
   "cell_type": "code",
   "execution_count": 32,
   "id": "8c7b117f",
   "metadata": {},
   "outputs": [],
   "source": [
    "# //*[@id=\"mainContent\"]/div[2]/div/div[2]/div[1]/div[2]/table/tbody/tr[2]/td[1]/strong\n",
    "# //*[@id=\"mainContent\"]/div[2]/div/div[2]/div[1]/div[2]/table/tbody/tr[1]/td[1]/strong"
   ]
  },
  {
   "cell_type": "code",
   "execution_count": 33,
   "id": "b7d1caf6",
   "metadata": {},
   "outputs": [
    {
     "data": {
      "text/plain": [
       "'1.'"
      ]
     },
     "execution_count": 33,
     "metadata": {},
     "output_type": "execute_result"
    }
   ],
   "source": [
    "# to check the rank of xpath\n",
    "x = driver.find_element_by_xpath('//*[@id=\"mainContent\"]/div[2]/div/div[2]/div[1]/div[2]/table/tbody/tr[1]/td[1]/strong')\n",
    "x.text"
   ]
  },
  {
   "cell_type": "code",
   "execution_count": 34,
   "id": "6f1b61e4",
   "metadata": {},
   "outputs": [
    {
     "data": {
      "text/plain": [
       "['1.',\n",
       " '2.',\n",
       " '3.',\n",
       " '4.',\n",
       " '4.',\n",
       " '6.',\n",
       " '7.',\n",
       " '8.',\n",
       " '9.',\n",
       " '9.',\n",
       " '11.',\n",
       " '11.',\n",
       " '11.',\n",
       " '11.',\n",
       " '15.',\n",
       " '15.',\n",
       " '15.',\n",
       " '15.',\n",
       " '15.',\n",
       " '20.']"
      ]
     },
     "execution_count": 34,
     "metadata": {},
     "output_type": "execute_result"
    }
   ],
   "source": [
    "rank =[]\n",
    "for i in range(1,21):\n",
    "    y = driver.find_element_by_xpath('//*[@id=\"mainContent\"]/div[2]/div/div[2]/div[1]/div[2]/table/tbody/tr[{}]/td[1]/strong'.format(i)).text\n",
    "    rank.append(y)\n",
    "\n",
    "    \n",
    "rank"
   ]
  },
  {
   "cell_type": "code",
   "execution_count": 35,
   "id": "1aa6ed35",
   "metadata": {},
   "outputs": [
    {
     "data": {
      "text/html": [
       "<div>\n",
       "<style scoped>\n",
       "    .dataframe tbody tr th:only-of-type {\n",
       "        vertical-align: middle;\n",
       "    }\n",
       "\n",
       "    .dataframe tbody tr th {\n",
       "        vertical-align: top;\n",
       "    }\n",
       "\n",
       "    .dataframe thead th {\n",
       "        text-align: right;\n",
       "    }\n",
       "</style>\n",
       "<table border=\"1\" class=\"dataframe\">\n",
       "  <thead>\n",
       "    <tr style=\"text-align: right;\">\n",
       "      <th></th>\n",
       "      <th>Rank</th>\n",
       "      <th>Player Name</th>\n",
       "      <th>Country</th>\n",
       "      <th>Club</th>\n",
       "    </tr>\n",
       "  </thead>\n",
       "  <tbody>\n",
       "    <tr>\n",
       "      <th>0</th>\n",
       "      <td>1.</td>\n",
       "      <td>Harry Kane</td>\n",
       "      <td>England</td>\n",
       "      <td>Tottenham Hotspur</td>\n",
       "    </tr>\n",
       "    <tr>\n",
       "      <th>1</th>\n",
       "      <td>2.</td>\n",
       "      <td>Mohamed Salah</td>\n",
       "      <td>Egypt</td>\n",
       "      <td>Liverpool</td>\n",
       "    </tr>\n",
       "    <tr>\n",
       "      <th>2</th>\n",
       "      <td>3.</td>\n",
       "      <td>Bruno Fernandes</td>\n",
       "      <td>Portugal</td>\n",
       "      <td>Manchester United</td>\n",
       "    </tr>\n",
       "    <tr>\n",
       "      <th>3</th>\n",
       "      <td>4.</td>\n",
       "      <td>Patrick Bamford</td>\n",
       "      <td>England</td>\n",
       "      <td>Leeds United</td>\n",
       "    </tr>\n",
       "    <tr>\n",
       "      <th>4</th>\n",
       "      <td>4.</td>\n",
       "      <td>Son Heung-Min</td>\n",
       "      <td>South Korea</td>\n",
       "      <td>Tottenham Hotspur</td>\n",
       "    </tr>\n",
       "    <tr>\n",
       "      <th>5</th>\n",
       "      <td>6.</td>\n",
       "      <td>Dominic Calvert-Lewin</td>\n",
       "      <td>England</td>\n",
       "      <td>Everton</td>\n",
       "    </tr>\n",
       "    <tr>\n",
       "      <th>6</th>\n",
       "      <td>7.</td>\n",
       "      <td>Jamie Vardy</td>\n",
       "      <td>England</td>\n",
       "      <td>Leicester City</td>\n",
       "    </tr>\n",
       "    <tr>\n",
       "      <th>7</th>\n",
       "      <td>8.</td>\n",
       "      <td>Ollie Watkins</td>\n",
       "      <td>England</td>\n",
       "      <td>Aston Villa</td>\n",
       "    </tr>\n",
       "    <tr>\n",
       "      <th>8</th>\n",
       "      <td>9.</td>\n",
       "      <td>Ilkay Gündogan</td>\n",
       "      <td>Germany</td>\n",
       "      <td>Manchester City</td>\n",
       "    </tr>\n",
       "    <tr>\n",
       "      <th>9</th>\n",
       "      <td>9.</td>\n",
       "      <td>Alexandre Lacazette</td>\n",
       "      <td>France</td>\n",
       "      <td>Arsenal</td>\n",
       "    </tr>\n",
       "    <tr>\n",
       "      <th>10</th>\n",
       "      <td>11.</td>\n",
       "      <td>Kelechi Iheanacho</td>\n",
       "      <td>Nigeria</td>\n",
       "      <td>Leicester City</td>\n",
       "    </tr>\n",
       "    <tr>\n",
       "      <th>11</th>\n",
       "      <td>11.</td>\n",
       "      <td>Danny Ings</td>\n",
       "      <td>England</td>\n",
       "      <td>Southampton</td>\n",
       "    </tr>\n",
       "    <tr>\n",
       "      <th>12</th>\n",
       "      <td>11.</td>\n",
       "      <td>Callum Wilson</td>\n",
       "      <td>England</td>\n",
       "      <td>Newcastle United</td>\n",
       "    </tr>\n",
       "    <tr>\n",
       "      <th>13</th>\n",
       "      <td>11.</td>\n",
       "      <td>Chris Wood</td>\n",
       "      <td>New Zealand</td>\n",
       "      <td>Burnley</td>\n",
       "    </tr>\n",
       "    <tr>\n",
       "      <th>14</th>\n",
       "      <td>15.</td>\n",
       "      <td>Gareth Bale</td>\n",
       "      <td>Wales</td>\n",
       "      <td>Tottenham Hotspur</td>\n",
       "    </tr>\n",
       "    <tr>\n",
       "      <th>15</th>\n",
       "      <td>15.</td>\n",
       "      <td>Matheus Pereira</td>\n",
       "      <td>Brazil</td>\n",
       "      <td>West Bromwich Albion</td>\n",
       "    </tr>\n",
       "    <tr>\n",
       "      <th>16</th>\n",
       "      <td>15.</td>\n",
       "      <td>Sadio Mané</td>\n",
       "      <td>Senegal</td>\n",
       "      <td>Liverpool</td>\n",
       "    </tr>\n",
       "    <tr>\n",
       "      <th>17</th>\n",
       "      <td>15.</td>\n",
       "      <td>Marcus Rashford</td>\n",
       "      <td>England</td>\n",
       "      <td>Manchester United</td>\n",
       "    </tr>\n",
       "    <tr>\n",
       "      <th>18</th>\n",
       "      <td>15.</td>\n",
       "      <td>Wilfried Zaha</td>\n",
       "      <td>[object Object]</td>\n",
       "      <td>Crystal Palace</td>\n",
       "    </tr>\n",
       "    <tr>\n",
       "      <th>19</th>\n",
       "      <td>20.</td>\n",
       "      <td>Michail Antonio</td>\n",
       "      <td>England</td>\n",
       "      <td>West Ham United</td>\n",
       "    </tr>\n",
       "  </tbody>\n",
       "</table>\n",
       "</div>"
      ],
      "text/plain": [
       "   Rank            Player Name          Country                  Club\n",
       "0    1.             Harry Kane          England     Tottenham Hotspur\n",
       "1    2.          Mohamed Salah            Egypt             Liverpool\n",
       "2    3.        Bruno Fernandes         Portugal     Manchester United\n",
       "3    4.        Patrick Bamford          England          Leeds United\n",
       "4    4.          Son Heung-Min      South Korea     Tottenham Hotspur\n",
       "5    6.  Dominic Calvert-Lewin          England               Everton\n",
       "6    7.            Jamie Vardy          England        Leicester City\n",
       "7    8.          Ollie Watkins          England           Aston Villa\n",
       "8    9.         Ilkay Gündogan          Germany       Manchester City\n",
       "9    9.    Alexandre Lacazette           France               Arsenal\n",
       "10  11.      Kelechi Iheanacho          Nigeria        Leicester City\n",
       "11  11.             Danny Ings          England           Southampton\n",
       "12  11.          Callum Wilson          England      Newcastle United\n",
       "13  11.             Chris Wood      New Zealand               Burnley\n",
       "14  15.            Gareth Bale            Wales     Tottenham Hotspur\n",
       "15  15.        Matheus Pereira           Brazil  West Bromwich Albion\n",
       "16  15.             Sadio Mané          Senegal             Liverpool\n",
       "17  15.        Marcus Rashford          England     Manchester United\n",
       "18  15.          Wilfried Zaha  [object Object]        Crystal Palace\n",
       "19  20.        Michail Antonio          England       West Ham United"
      ]
     },
     "execution_count": 35,
     "metadata": {},
     "output_type": "execute_result"
    }
   ],
   "source": [
    "df = pd.DataFrame({'Rank': rank, \"Player Name\": player_name, \"Country\": country, \"Club\": club})\n",
    "df"
   ]
  },
  {
   "cell_type": "code",
   "execution_count": null,
   "id": "a5ada719",
   "metadata": {},
   "outputs": [],
   "source": [
    "# to save the file in csv\n",
    "df.to_csv(\"football_stats.csv\")"
   ]
  }
 ],
 "metadata": {
  "kernelspec": {
   "display_name": "Python 3",
   "language": "python",
   "name": "python3"
  },
  "language_info": {
   "codemirror_mode": {
    "name": "ipython",
    "version": 3
   },
   "file_extension": ".py",
   "mimetype": "text/x-python",
   "name": "python",
   "nbconvert_exporter": "python",
   "pygments_lexer": "ipython3",
   "version": "3.8.10"
  }
 },
 "nbformat": 4,
 "nbformat_minor": 5
}
